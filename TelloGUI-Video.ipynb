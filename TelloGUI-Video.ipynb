{
 "cells": [
  {
   "cell_type": "markdown",
   "metadata": {},
   "source": [
    "# Graphical User Interface for Single Tello Operation\n",
    "\n"
   ]
  },
  {
   "cell_type": "markdown",
   "metadata": {},
   "source": [
    "### Imports and Globals\n",
    "The first step is to import the required libraries..."
   ]
  },
  {
   "cell_type": "code",
   "execution_count": null,
   "metadata": {},
   "outputs": [],
   "source": [
    "import threading \n",
    "import socket\n",
    "import queue\n",
    "import ipywidgets.widgets as widgets\n",
    "import numpy as np\n",
    "import cv2\n",
    "\n",
    "from IPython.display import display\n",
    "#from PIL import Image\n",
    "from time import sleep\n",
    "\n",
    "# import sys\n",
    "# import time\n",
    "\n"
   ]
  },
  {
   "cell_type": "markdown",
   "metadata": {},
   "source": [
    "### Tello Communication\n",
    "The Tello uses WiFi for all of its communication.\n",
    "\n",
    "The video socket is created by the OpenCV VideoCapture method defined below.\n",
    "*** Important Note: teh current Tello firmware can only stream video if the Tello is directly connect to the host \n",
    "computer - i.e. at 192.168.10.1 without using a router. If you assign it to an existing netowork it will not stream video.\n",
    "The streamon command will not return an error."
   ]
  },
  {
   "cell_type": "code",
   "execution_count": null,
   "metadata": {},
   "outputs": [],
   "source": [
    "# Globals\n",
    "\n",
    "#TelloIP = '10.10.30.31'\n",
    "TelloIP = '192.168.10.1'\n",
    "\n",
    "TelloCmdPort = 8889      # Command and response\n",
    "TelloStatusPort = 8890   # Status data from the Tello \n",
    "TelloVideoPort = 11111   # h.264 video stream from the Tello"
   ]
  },
  {
   "cell_type": "markdown",
   "metadata": {},
   "source": [
    "### Create a UDP server to listen for command respose messages from the Tello.\n",
    "A UDP format message is not actually a client / server connect, but we still use that terminology. "
   ]
  },
  {
   "cell_type": "code",
   "execution_count": null,
   "metadata": {},
   "outputs": [],
   "source": [
    "# Create a UDP socket for commands\n",
    "cmd_socket = socket.socket(socket.AF_INET, socket.SOCK_DGRAM)\n",
    "cmd_socket.bind (('', TelloCmdPort)) #host ip, port\n",
    "\n",
    "# Create a UDP socket for status\n",
    "status_socket = socket.socket(socket.AF_INET, socket.SOCK_DGRAM)\n",
    "status_socket.bind(('', TelloStatusPort)) # host, port\n",
    "\n",
    "# Create a UDP socket for video\n",
    "#video_socket = socket.socket(socket.AF_INET, socket.SOCK_DGRAM)\n",
    "#video_socket.bind(('', TelloVideoPort)) # host, port"
   ]
  },
  {
   "cell_type": "markdown",
   "metadata": {},
   "source": [
    "### Define Background Threads\n",
    "Create threads to listen for responses to commands, collect status data and capture the video stream fromm the Tello"
   ]
  },
  {
   "cell_type": "code",
   "execution_count": null,
   "metadata": {},
   "outputs": [],
   "source": [
    "def receive_command_response_thread(_widget):\n",
    "\n",
    "    while True: \n",
    "        try:\n",
    "            data, ip = cmd_socket.recvfrom(1518)\n",
    "            _widget.value = data.decode(encoding='utf-8')\n",
    "            \n",
    "        except Exception:\n",
    "            print ('\\nreceive_command_response exception - Exit . . .\\n')\n",
    "            break"
   ]
  },
  {
   "cell_type": "code",
   "execution_count": null,
   "metadata": {},
   "outputs": [],
   "source": [
    "# The status data is sent from the Tello in a fixed order. The background thread reads that data and builds a list\n",
    "# of strings containing the data lables and values. \n",
    "\n",
    "def receive_status_thread(_status_items):\n",
    "\n",
    "    while True: \n",
    "        try:\n",
    "            b_data, ip = status_socket.recvfrom(1518)\n",
    "            #print (\"Got a status\", ip, data)\n",
    "            data = b_data.decode(encoding='utf-8')\n",
    "            data = data[:-5].split(';') # convert the data into an array of individual strings, cutting off the trailing ';\\r\\n'\n",
    "\n",
    "            # The elements defined in the GUI rely on the data being saved to the list in order as defined in the SDK\n",
    "            # todo - test to make sure data lenght = list size\n",
    "            for index in range (len(data)):\n",
    "                _status_items[index].description = data[index].split(':')[0]\n",
    "                _status_items[index].value = data[index].split(':')[1]              \n",
    "            \n",
    "            # Convert the status data byte array to a string and save it and the ip address to the queue\n",
    "            #StatusQ.put(PacketBlob(data.decode(encoding=\"utf-8\"), ip[0]))\n",
    "            \n",
    "        except Exception:\n",
    "            print ('\\nreceive_status exception - Exit . . .\\n')\n",
    "            break"
   ]
  },
  {
   "cell_type": "code",
   "execution_count": null,
   "metadata": {},
   "outputs": [],
   "source": [
    "def receive_video_stream(_widget):\n",
    "\n",
    "    cap = cv2.VideoCapture('udp://0.0.0.0:11111')\n",
    "\n",
    "    #def bgr8_to_jpeg(value, quality=75):\n",
    "    #return bytes(cv2.imencode('.jpg', value)[1])\n",
    "    \n",
    "    \n",
    "    #frame = cap.read()\n",
    "    #cap.release()\n",
    "\n",
    "    while True:\n",
    "        ret, frame = cap.read()\n",
    "        \n",
    "        _widget.value = bytes(cv2.imencode('.jpg', frame)[1])\n",
    "        #cv.imshow('DJI Tello', frame)\n",
    "\n",
    "        # Video Stream is closed if escape key is pressed\n",
    "        #k = cv.waitKey(1) & 0xFF\n",
    "        #if k == 27:\n",
    "            #break\n",
    "    #cap.release()\n",
    "    #cv.destroyAllWindows()"
   ]
  },
  {
   "cell_type": "markdown",
   "metadata": {},
   "source": [
    "### Create a Graphical User Interface\n",
    "The user intreface is built using Jupyter Widgets..."
   ]
  },
  {
   "cell_type": "markdown",
   "metadata": {},
   "source": [
    "#### Title Bar"
   ]
  },
  {
   "cell_type": "code",
   "execution_count": null,
   "metadata": {},
   "outputs": [],
   "source": [
    "title_bar = widgets.Text(description = \"Interfaced to Tello ID - \")\n",
    "title_bar.value = TelloIP"
   ]
  },
  {
   "cell_type": "markdown",
   "metadata": {},
   "source": [
    "#### Status Data Area\n",
    "The status data area is created using a grid widget. This widget allows all of the elements to be placed at uniformly\n",
    "spaced intervals. A list of Text widgets is created (status_items) to hold each piece of status data from the Tello.\n",
    "One widget from the list is then assigned a specific spot on the grid to create the data layout that is desired.\n",
    "The status thread will directly update the values for each widget in the background. The order of the data in the list\n",
    "is just the prder defined the the SDK. For example status_item[15] is the battery voltage."
   ]
  },
  {
   "cell_type": "code",
   "execution_count": null,
   "metadata": {},
   "outputs": [],
   "source": [
    "status_grid = widgets.GridspecLayout (9,4)\n",
    "\n",
    "style = {'description_width':'40px'}\n",
    "status_items = [ widgets.Text(value = str(index),\n",
    "                              description=str(index),\n",
    "                              layout=widgets.Layout(width='100px'),\n",
    "                              style=style, \n",
    "                              disabled=True) for index in range(21) ]\n",
    "\n",
    "status_grid[0,0] = widgets.Label(value=\"Found MP:\")\n",
    "status_grid[0,1] = status_items[0]\n",
    "                          \n",
    "for i in [1,2,3]:\n",
    "    status_grid[1,i] = status_items[i]\n",
    "\n",
    "status_grid[2,0] = widgets.Label(value=\"Attitude:\")\n",
    "for i in [1,2,3]:\n",
    "    status_grid[2,i] = status_items[i+4]\n",
    "    \n",
    "status_grid[3,0] = widgets.Label(value=\"Velocity:\")\n",
    "for i in [1,2,3]:\n",
    "    status_grid[3,i] = status_items[i+7]\n",
    "\n",
    "status_grid[4,0] = widgets.Label(value=\"Acc:\")\n",
    "for i in [1,2,3]:\n",
    "    status_grid[4,i] = status_items[i+17]\n",
    "\n",
    "status_grid[5,0] = widgets.Label(value=\"Temp:\")\n",
    "status_grid[5,1] = status_items[11]\n",
    "status_grid[5,2] = status_items[12]\n",
    "    \n",
    "status_grid[6,0] = widgets.Label(value=\"Time:\")\n",
    "status_grid[6,1] = status_items[13]\n",
    "status_grid[6,2] = status_items[17]\n",
    "\n",
    "status_grid[7,0] = widgets.Label(value=\"Altitdue:\")\n",
    "status_grid[7,1] = status_items[14]\n",
    "status_grid[7,2] = status_items[16] \n",
    "    \n",
    "status_grid[8,0] = widgets.Label(value=\"Battery:\")\n",
    "status_grid[8,1] = status_items[15]\n"
   ]
  },
  {
   "cell_type": "markdown",
   "metadata": {},
   "source": [
    "#### Video Window"
   ]
  },
  {
   "cell_type": "code",
   "execution_count": 65,
   "metadata": {},
   "outputs": [
    {
     "data": {
      "text/plain": [
       "ipywidgets.widgets.widget_media.Image"
      ]
     },
     "execution_count": 65,
     "metadata": {},
     "output_type": "execute_result"
    }
   ],
   "source": [
    "# Tello's native video resolution is 720p 1280 x 720\n",
    "video_image = widgets.Image(format='jpeg', width=170, height=90, description='test')\n",
    "video_image = video_image.from_file('test_image.jpg')\n",
    "widgets.Image\n",
    "# todo - consider using .observe or dlink for updates rather than having the thread do it directly"
   ]
  },
  {
   "cell_type": "markdown",
   "metadata": {},
   "source": [
    "#### Machine Learning Controls\n",
    "\n",
    "Image Capture\n",
    "* Button\n",
    "* Preview window\n",
    "\n",
    "Training\n",
    "* Epochs\n",
    "* Progress\n",
    "* Loss\n",
    "* Accuracy\n",
    "    \n",
    "Inference\n",
    "* Convlution...\n",
    "* Regression..."
   ]
  },
  {
   "cell_type": "code",
   "execution_count": 68,
   "metadata": {},
   "outputs": [],
   "source": [
    "captured_image = widgets.Image(format='jpeg', width='100', height='100')\n",
    "captured_image = captured_image.from_file('test_image2.jpg')"
   ]
  },
  {
   "cell_type": "code",
   "execution_count": 69,
   "metadata": {},
   "outputs": [],
   "source": [
    "epochs_widget = widgets.IntText(description='epochs', value=1)\n",
    "eval_button = widgets.Button(description='evaluate')\n",
    "train_button = widgets.Button(description='train')\n",
    "loss_widget = widgets.FloatText(description='loss')\n",
    "accuracy_widget = widgets.FloatText(description='accuracy')\n",
    "progress_widget = widgets.FloatProgress(min=0.0, max=1.0, description='progress')\n",
    "\n",
    "mlc = widgets.VBox([ captured_image,\n",
    "                   epochs_widget,\n",
    "                   eval_button,\n",
    "                   loss_widget,\n",
    "                   accuracy_widget,\n",
    "                   progress_widget ])\n",
    "#display(mlc)"
   ]
  },
  {
   "cell_type": "markdown",
   "metadata": {},
   "source": [
    "#### Commnd Line"
   ]
  },
  {
   "cell_type": "code",
   "execution_count": 70,
   "metadata": {},
   "outputs": [],
   "source": [
    "command_line = widgets.Text(description='Commands:',\n",
    "                            value='',\n",
    "                            placeholder='command takeoff land flip forward back left right up down cw ccw speed speed?',\n",
    "                            layout = widgets.Layout(width='800px'))\n",
    "\n",
    "# Send any command entered to the Tello\n",
    "def on_command_entered(widget_triggered):    \n",
    "    msg = widget_triggered.value\n",
    "    msg = msg.encode(encoding=\"utf-8\") \n",
    "    sent = cmd_socket.sendto(msg, (TelloIP, TelloCmdPort))\n",
    "    #widget_triggered.value = ''\n",
    "    \n",
    "command_line.on_submit(on_command_entered)\n",
    "\n",
    "\n",
    "#the response line\n",
    "response_line = widgets.Textarea(description='Response:',\n",
    "                                 value='',\n",
    "                                 layout = widgets.Layout(width='800px'))\n",
    "\n",
    "command_area = widgets.VBox([ command_line,response_line ])\n"
   ]
  },
  {
   "cell_type": "markdown",
   "metadata": {},
   "source": [
    "### Create The Composit GUI\n",
    "The AppLayout widget is used to organize the individual elements of the GUI. The widget is divided into five \n",
    "main areas - a header, a footer and three middle areas - left, center and right. Each of the sections defined above\n",
    "are assigned to the AppLayout widget and then the composit GUI is displayed."
   ]
  },
  {
   "cell_type": "code",
   "execution_count": 71,
   "metadata": {},
   "outputs": [
    {
     "data": {
      "application/vnd.jupyter.widget-view+json": {
       "model_id": "bd0741935a604fdd8cd6bb98cbdbbb87",
       "version_major": 2,
       "version_minor": 0
      },
      "text/plain": [
       "AppLayout(children=(Text(value='192.168.10.1', description='Interface to Tello ID - ', layout=Layout(grid_area…"
      ]
     },
     "metadata": {},
     "output_type": "display_data"
    }
   ],
   "source": [
    "composit_gui = widgets.AppLayout(header = title_bar,\n",
    "                                 left_sidebar = status_grid,\n",
    "                                 center = video_image,\n",
    "                                 right_sidebar = mlc,\n",
    "                                 pane_widths = [2,2,2],\n",
    "                                 pane_heights = ['50px',3,1],\n",
    "                                 footer = command_area)\n",
    "display(composit_gui)"
   ]
  },
  {
   "cell_type": "markdown",
   "metadata": {},
   "source": [
    "### Start The Background Threads"
   ]
  },
  {
   "cell_type": "code",
   "execution_count": null,
   "metadata": {},
   "outputs": [],
   "source": [
    "response_thread = threading.Thread(target=receive_command_response_thread, args=(response_line,))\n",
    "response_thread.start()\n",
    "\n",
    "status_thread = threading.Thread(target=receive_status_thread, args=(status_items,))\n",
    "status_thread.start()\n",
    "\n",
    "video_thread = threading.Thread(target=receive_video_stream, args=(image,))\n",
    "video_thread.start()"
   ]
  },
  {
   "cell_type": "markdown",
   "metadata": {},
   "source": [
    "### Commands to get started\n",
    "\n",
    "Place the Tello in command mode by sending \n",
    "    command\n",
    "You should receive an ok. Sometimes the thread misses this - todo - debug this\n",
    "\n",
    "start the video stream by sending\n",
    "    streamon\n",
    "You should receive an ok and video should appear inthe center window. There is a slight lag in the video.\n",
    "\n",
    "todo - clear the command and response boxes on reentry to the command box"
   ]
  },
  {
   "cell_type": "code",
   "execution_count": null,
   "metadata": {},
   "outputs": [],
   "source": [
    "def _h264_decode(packet_data):\n",
    "    \"\"\"\n",
    "    decode raw h264 format data from Tello\n",
    "\n",
    "    :param packet_data: raw h264 data array\n",
    "\n",
    "    :return: a list of decoded frame\n",
    "    \"\"\"\n",
    "    res_frame_list = []\n",
    "    decoder = libh264decoder.H264Decoder()\n",
    "    \n",
    "    frames = decoder.decode(packet_data)\n",
    "    \n",
    "    for framedata in frames:\n",
    "        (frame, w, h, ls) = framedata\n",
    "        if frame is not None:\n",
    "            # print 'frame size %i bytes, w %i, h %i, linesize %i' % (len(frame), w, h, ls)\n",
    "\n",
    "            frame = np.fromstring(frame, dtype=np.ubyte, count=len(frame), sep='')\n",
    "            frame = (frame.reshape((h, ls / 3, 3)))\n",
    "            frame = frame[:, :w, :]\n",
    "            res_frame_list.append(frame)\n",
    "\n",
    "    return res_frame_list\n",
    "\n",
    "def receive_video_thread(_widget):\n",
    "    \"\"\"\n",
    "    Listens for video streaming (raw h264) from the Tello.\n",
    "\n",
    "    Runs as a thread, sets self.frame to the most recent frame Tello captured.\n",
    "\n",
    "    \"\"\"\n",
    "    packet_data = \"\"\n",
    "    while True:\n",
    "        try:\n",
    "            res_string, ip = video_socket.recvfrom(2048)\n",
    "            packet_data += res_string\n",
    "            # end of frame\n",
    "            if len(res_string) != 1460:\n",
    "                for _frame in _h264_decode(packet_data):\n",
    "                    frame = _frame\n",
    "                packet_data = \"\"\n",
    "            _widget.value = Image.fromarray(frame)\n",
    "\n",
    "        except socket.error as exc:\n",
    "            print (\"Caught exception socket.error : %s\" % exc)"
   ]
  },
  {
   "cell_type": "code",
   "execution_count": null,
   "metadata": {},
   "outputs": [],
   "source": [
    "#vid = widgets.Video(value = 'udp//192.168.10.1:11111'.encode('utf-8'), format = 'url')"
   ]
  }
 ],
 "metadata": {
  "kernelspec": {
   "display_name": "Python 3",
   "language": "python",
   "name": "python3"
  },
  "language_info": {
   "codemirror_mode": {
    "name": "ipython",
    "version": 3
   },
   "file_extension": ".py",
   "mimetype": "text/x-python",
   "name": "python",
   "nbconvert_exporter": "python",
   "pygments_lexer": "ipython3",
   "version": "3.7.6"
  }
 },
 "nbformat": 4,
 "nbformat_minor": 4
}
